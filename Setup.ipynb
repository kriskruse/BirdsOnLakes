{
 "cells": [
  {
   "cell_type": "code",
   "execution_count": 1,
   "metadata": {
    "collapsed": true,
    "pycharm": {
     "name": "#%%\n"
    }
   },
   "outputs": [
    {
     "name": "stdout",
     "output_type": "stream",
     "text": [
      "Looking in indexes: https://pypi.org/simple, https://pypi.ngc.nvidia.com\n",
      "Requirement already satisfied: opencv-python>=4.5.5.64 in c:\\users\\krisk\\.conda\\envs\\py38\\lib\\site-packages (from -r requirements.txt (line 1)) (4.5.5.64)\n",
      "Requirement already satisfied: numpy>=1.22.3 in c:\\users\\krisk\\.conda\\envs\\py38\\lib\\site-packages (from -r requirements.txt (line 2)) (1.22.3)\n",
      "Requirement already satisfied: pillow>=7.0.0 in c:\\users\\krisk\\appdata\\roaming\\python\\python38\\site-packages (from -r requirements.txt (line 3)) (9.1.0)\n",
      "Requirement already satisfied: pandas>=1.3.5 in c:\\users\\krisk\\.conda\\envs\\py38\\lib\\site-packages (from -r requirements.txt (line 4)) (1.3.5)\n",
      "Requirement already satisfied: tensorflow>=2.8.0 in c:\\users\\krisk\\.conda\\envs\\py38\\lib\\site-packages (from -r requirements.txt (line 5)) (2.8.0)\n",
      "Requirement already satisfied: matplotlib>=3.3.2 in c:\\users\\krisk\\.conda\\envs\\py38\\lib\\site-packages (from -r requirements.txt (line 6)) (3.3.2)\n",
      "Requirement already satisfied: keras>=2.8.0 in c:\\users\\krisk\\.conda\\envs\\py38\\lib\\site-packages (from -r requirements.txt (line 7)) (2.8.0)\n",
      "Requirement already satisfied: ipython>=8.0.0 in c:\\users\\krisk\\.conda\\envs\\py38\\lib\\site-packages (from -r requirements.txt (line 8)) (8.0.0)\n",
      "Requirement already satisfied: six>=1.16.0 in c:\\users\\krisk\\.conda\\envs\\py38\\lib\\site-packages (from -r requirements.txt (line 9)) (1.16.0)\n",
      "Requirement already satisfied: bs4>=0.0.1 in c:\\users\\krisk\\.conda\\envs\\py38\\lib\\site-packages (from -r requirements.txt (line 10)) (0.0.1)\n",
      "Requirement already satisfied: beautifulsoup4>=4.10.0 in c:\\users\\krisk\\.conda\\envs\\py38\\lib\\site-packages (from -r requirements.txt (line 11)) (4.10.0)\n",
      "Requirement already satisfied: tqdm>=4.62.3 in c:\\users\\krisk\\.conda\\envs\\py38\\lib\\site-packages (from -r requirements.txt (line 12)) (4.62.3)\n",
      "Requirement already satisfied: imgaug>=0.4.0 in c:\\users\\krisk\\.conda\\envs\\py38\\lib\\site-packages (from -r requirements.txt (line 13)) (0.4.0)\n",
      "Requirement already satisfied: colorama>=0.4.4 in c:\\users\\krisk\\.conda\\envs\\py38\\lib\\site-packages (from -r requirements.txt (line 14)) (0.4.4)\n",
      "Requirement already satisfied: pytz>=2017.3 in c:\\users\\krisk\\.conda\\envs\\py38\\lib\\site-packages (from pandas>=1.3.5->-r requirements.txt (line 4)) (2021.3)\n",
      "Requirement already satisfied: python-dateutil>=2.7.3 in c:\\users\\krisk\\.conda\\envs\\py38\\lib\\site-packages (from pandas>=1.3.5->-r requirements.txt (line 4)) (2.8.2)\n",
      "Requirement already satisfied: grpcio<2.0,>=1.24.3 in c:\\users\\krisk\\.conda\\envs\\py38\\lib\\site-packages (from tensorflow>=2.8.0->-r requirements.txt (line 5)) (1.43.0)\n",
      "Requirement already satisfied: tensorboard<2.9,>=2.8 in c:\\users\\krisk\\.conda\\envs\\py38\\lib\\site-packages (from tensorflow>=2.8.0->-r requirements.txt (line 5)) (2.8.0)\n",
      "Requirement already satisfied: libclang>=9.0.1 in c:\\users\\krisk\\.conda\\envs\\py38\\lib\\site-packages (from tensorflow>=2.8.0->-r requirements.txt (line 5)) (12.0.0)\n",
      "Requirement already satisfied: protobuf>=3.9.2 in c:\\users\\krisk\\.conda\\envs\\py38\\lib\\site-packages (from tensorflow>=2.8.0->-r requirements.txt (line 5)) (3.19.3)\n",
      "Requirement already satisfied: setuptools in c:\\users\\krisk\\.conda\\envs\\py38\\lib\\site-packages (from tensorflow>=2.8.0->-r requirements.txt (line 5)) (58.0.4)\n",
      "Requirement already satisfied: typing-extensions>=3.6.6 in c:\\users\\krisk\\.conda\\envs\\py38\\lib\\site-packages (from tensorflow>=2.8.0->-r requirements.txt (line 5)) (4.0.1)\n",
      "Requirement already satisfied: gast>=0.2.1 in c:\\users\\krisk\\.conda\\envs\\py38\\lib\\site-packages (from tensorflow>=2.8.0->-r requirements.txt (line 5)) (0.4.0)\n",
      "Requirement already satisfied: h5py>=2.9.0 in c:\\users\\krisk\\.conda\\envs\\py38\\lib\\site-packages (from tensorflow>=2.8.0->-r requirements.txt (line 5)) (2.10.0)\n",
      "Requirement already satisfied: absl-py>=0.4.0 in c:\\users\\krisk\\.conda\\envs\\py38\\lib\\site-packages (from tensorflow>=2.8.0->-r requirements.txt (line 5)) (1.0.0)\n",
      "Requirement already satisfied: tf-estimator-nightly==2.8.0.dev2021122109 in c:\\users\\krisk\\.conda\\envs\\py38\\lib\\site-packages (from tensorflow>=2.8.0->-r requirements.txt (line 5)) (2.8.0.dev2021122109)\n",
      "Requirement already satisfied: wrapt>=1.11.0 in c:\\users\\krisk\\.conda\\envs\\py38\\lib\\site-packages (from tensorflow>=2.8.0->-r requirements.txt (line 5)) (1.13.3)\n",
      "Requirement already satisfied: astunparse>=1.6.0 in c:\\users\\krisk\\.conda\\envs\\py38\\lib\\site-packages (from tensorflow>=2.8.0->-r requirements.txt (line 5)) (1.6.3)\n",
      "Requirement already satisfied: opt-einsum>=2.3.2 in c:\\users\\krisk\\.conda\\envs\\py38\\lib\\site-packages (from tensorflow>=2.8.0->-r requirements.txt (line 5)) (3.3.0)\n",
      "Requirement already satisfied: flatbuffers>=1.12 in c:\\users\\krisk\\.conda\\envs\\py38\\lib\\site-packages (from tensorflow>=2.8.0->-r requirements.txt (line 5)) (2.0)\n",
      "Requirement already satisfied: google-pasta>=0.1.1 in c:\\users\\krisk\\.conda\\envs\\py38\\lib\\site-packages (from tensorflow>=2.8.0->-r requirements.txt (line 5)) (0.2.0)\n",
      "Requirement already satisfied: tensorflow-io-gcs-filesystem>=0.23.1 in c:\\users\\krisk\\.conda\\envs\\py38\\lib\\site-packages (from tensorflow>=2.8.0->-r requirements.txt (line 5)) (0.23.1)\n",
      "Requirement already satisfied: termcolor>=1.1.0 in c:\\users\\krisk\\.conda\\envs\\py38\\lib\\site-packages (from tensorflow>=2.8.0->-r requirements.txt (line 5)) (1.1.0)\n",
      "Requirement already satisfied: keras-preprocessing>=1.1.1 in c:\\users\\krisk\\.conda\\envs\\py38\\lib\\site-packages (from tensorflow>=2.8.0->-r requirements.txt (line 5)) (1.1.2)\n",
      "Requirement already satisfied: pyparsing!=2.0.4,!=2.1.2,!=2.1.6,>=2.0.3 in c:\\users\\krisk\\.conda\\envs\\py38\\lib\\site-packages (from matplotlib>=3.3.2->-r requirements.txt (line 6)) (3.0.6)\n",
      "Requirement already satisfied: cycler>=0.10 in c:\\users\\krisk\\.conda\\envs\\py38\\lib\\site-packages (from matplotlib>=3.3.2->-r requirements.txt (line 6)) (0.11.0)\n",
      "Requirement already satisfied: kiwisolver>=1.0.1 in c:\\users\\krisk\\.conda\\envs\\py38\\lib\\site-packages (from matplotlib>=3.3.2->-r requirements.txt (line 6)) (1.3.2)\n",
      "Requirement already satisfied: certifi>=2020.06.20 in c:\\users\\krisk\\.conda\\envs\\py38\\lib\\site-packages (from matplotlib>=3.3.2->-r requirements.txt (line 6)) (2021.10.8)\n",
      "Requirement already satisfied: pygments in c:\\users\\krisk\\.conda\\envs\\py38\\lib\\site-packages (from ipython>=8.0.0->-r requirements.txt (line 8)) (2.11.2)\n",
      "Requirement already satisfied: stack-data in c:\\users\\krisk\\.conda\\envs\\py38\\lib\\site-packages (from ipython>=8.0.0->-r requirements.txt (line 8)) (0.1.3)\n",
      "Requirement already satisfied: black in c:\\users\\krisk\\.conda\\envs\\py38\\lib\\site-packages (from ipython>=8.0.0->-r requirements.txt (line 8)) (21.12b0)\n",
      "Requirement already satisfied: prompt-toolkit!=3.0.0,!=3.0.1,<3.1.0,>=2.0.0 in c:\\users\\krisk\\.conda\\envs\\py38\\lib\\site-packages (from ipython>=8.0.0->-r requirements.txt (line 8)) (3.0.24)\n",
      "Requirement already satisfied: pickleshare in c:\\users\\krisk\\.conda\\envs\\py38\\lib\\site-packages (from ipython>=8.0.0->-r requirements.txt (line 8)) (0.7.5)\n",
      "Requirement already satisfied: traitlets>=5 in c:\\users\\krisk\\.conda\\envs\\py38\\lib\\site-packages (from ipython>=8.0.0->-r requirements.txt (line 8)) (5.1.1)\n",
      "Requirement already satisfied: decorator in c:\\users\\krisk\\.conda\\envs\\py38\\lib\\site-packages (from ipython>=8.0.0->-r requirements.txt (line 8)) (5.1.1)\n",
      "Requirement already satisfied: matplotlib-inline in c:\\users\\krisk\\.conda\\envs\\py38\\lib\\site-packages (from ipython>=8.0.0->-r requirements.txt (line 8)) (0.1.3)\n",
      "Requirement already satisfied: backcall in c:\\users\\krisk\\.conda\\envs\\py38\\lib\\site-packages (from ipython>=8.0.0->-r requirements.txt (line 8)) (0.2.0)\n",
      "Requirement already satisfied: jedi>=0.16 in c:\\users\\krisk\\.conda\\envs\\py38\\lib\\site-packages (from ipython>=8.0.0->-r requirements.txt (line 8)) (0.18.1)\n",
      "Requirement already satisfied: soupsieve>1.2 in c:\\users\\krisk\\.conda\\envs\\py38\\lib\\site-packages (from beautifulsoup4>=4.10.0->-r requirements.txt (line 11)) (2.3.1)\n",
      "Requirement already satisfied: imageio in c:\\users\\krisk\\.conda\\envs\\py38\\lib\\site-packages (from imgaug>=0.4.0->-r requirements.txt (line 13)) (2.19.0)\n",
      "Requirement already satisfied: scikit-image>=0.14.2 in c:\\users\\krisk\\.conda\\envs\\py38\\lib\\site-packages (from imgaug>=0.4.0->-r requirements.txt (line 13)) (0.19.2)\n",
      "Requirement already satisfied: Shapely in c:\\users\\krisk\\.conda\\envs\\py38\\lib\\site-packages (from imgaug>=0.4.0->-r requirements.txt (line 13)) (1.8.2)\n",
      "Requirement already satisfied: scipy in c:\\users\\krisk\\.conda\\envs\\py38\\lib\\site-packages (from imgaug>=0.4.0->-r requirements.txt (line 13)) (1.4.1)\n",
      "Requirement already satisfied: wheel<1.0,>=0.23.0 in c:\\users\\krisk\\.conda\\envs\\py38\\lib\\site-packages (from astunparse>=1.6.0->tensorflow>=2.8.0->-r requirements.txt (line 5)) (0.37.0)\n",
      "Requirement already satisfied: parso<0.9.0,>=0.8.0 in c:\\users\\krisk\\.conda\\envs\\py38\\lib\\site-packages (from jedi>=0.16->ipython>=8.0.0->-r requirements.txt (line 8)) (0.8.3)\n",
      "Requirement already satisfied: wcwidth in c:\\users\\krisk\\.conda\\envs\\py38\\lib\\site-packages (from prompt-toolkit!=3.0.0,!=3.0.1,<3.1.0,>=2.0.0->ipython>=8.0.0->-r requirements.txt (line 8)) (0.2.5)\n",
      "Requirement already satisfied: packaging>=20.0 in c:\\users\\krisk\\.conda\\envs\\py38\\lib\\site-packages (from scikit-image>=0.14.2->imgaug>=0.4.0->-r requirements.txt (line 13)) (21.3)\n",
      "Requirement already satisfied: tifffile>=2019.7.26 in c:\\users\\krisk\\.conda\\envs\\py38\\lib\\site-packages (from scikit-image>=0.14.2->imgaug>=0.4.0->-r requirements.txt (line 13)) (2022.5.4)\n",
      "Requirement already satisfied: PyWavelets>=1.1.1 in c:\\users\\krisk\\.conda\\envs\\py38\\lib\\site-packages (from scikit-image>=0.14.2->imgaug>=0.4.0->-r requirements.txt (line 13)) (1.3.0)\n",
      "Requirement already satisfied: networkx>=2.2 in c:\\users\\krisk\\.conda\\envs\\py38\\lib\\site-packages (from scikit-image>=0.14.2->imgaug>=0.4.0->-r requirements.txt (line 13)) (2.8)\n",
      "Requirement already satisfied: google-auth-oauthlib<0.5,>=0.4.1 in c:\\users\\krisk\\.conda\\envs\\py38\\lib\\site-packages (from tensorboard<2.9,>=2.8->tensorflow>=2.8.0->-r requirements.txt (line 5)) (0.4.6)\n",
      "Requirement already satisfied: tensorboard-data-server<0.7.0,>=0.6.0 in c:\\users\\krisk\\.conda\\envs\\py38\\lib\\site-packages (from tensorboard<2.9,>=2.8->tensorflow>=2.8.0->-r requirements.txt (line 5)) (0.6.1)\n",
      "Requirement already satisfied: google-auth<3,>=1.6.3 in c:\\users\\krisk\\.conda\\envs\\py38\\lib\\site-packages (from tensorboard<2.9,>=2.8->tensorflow>=2.8.0->-r requirements.txt (line 5)) (2.3.3)\n",
      "Requirement already satisfied: tensorboard-plugin-wit>=1.6.0 in c:\\users\\krisk\\.conda\\envs\\py38\\lib\\site-packages (from tensorboard<2.9,>=2.8->tensorflow>=2.8.0->-r requirements.txt (line 5)) (1.8.1)\n",
      "Requirement already satisfied: markdown>=2.6.8 in c:\\users\\krisk\\.conda\\envs\\py38\\lib\\site-packages (from tensorboard<2.9,>=2.8->tensorflow>=2.8.0->-r requirements.txt (line 5)) (3.3.6)\n",
      "Requirement already satisfied: requests<3,>=2.21.0 in c:\\users\\krisk\\.conda\\envs\\py38\\lib\\site-packages (from tensorboard<2.9,>=2.8->tensorflow>=2.8.0->-r requirements.txt (line 5)) (2.27.1)\n",
      "Requirement already satisfied: werkzeug>=0.11.15 in c:\\users\\krisk\\.conda\\envs\\py38\\lib\\site-packages (from tensorboard<2.9,>=2.8->tensorflow>=2.8.0->-r requirements.txt (line 5)) (2.0.2)\n",
      "Requirement already satisfied: pyasn1-modules>=0.2.1 in c:\\users\\krisk\\.conda\\envs\\py38\\lib\\site-packages (from google-auth<3,>=1.6.3->tensorboard<2.9,>=2.8->tensorflow>=2.8.0->-r requirements.txt (line 5)) (0.2.8)\n",
      "Requirement already satisfied: cachetools<5.0,>=2.0.0 in c:\\users\\krisk\\.conda\\envs\\py38\\lib\\site-packages (from google-auth<3,>=1.6.3->tensorboard<2.9,>=2.8->tensorflow>=2.8.0->-r requirements.txt (line 5)) (4.2.4)\n",
      "Requirement already satisfied: rsa<5,>=3.1.4 in c:\\users\\krisk\\.conda\\envs\\py38\\lib\\site-packages (from google-auth<3,>=1.6.3->tensorboard<2.9,>=2.8->tensorflow>=2.8.0->-r requirements.txt (line 5)) (4.8)\n",
      "Requirement already satisfied: requests-oauthlib>=0.7.0 in c:\\users\\krisk\\.conda\\envs\\py38\\lib\\site-packages (from google-auth-oauthlib<0.5,>=0.4.1->tensorboard<2.9,>=2.8->tensorflow>=2.8.0->-r requirements.txt (line 5)) (1.3.0)\n",
      "Requirement already satisfied: importlib-metadata>=4.4 in c:\\users\\krisk\\.conda\\envs\\py38\\lib\\site-packages (from markdown>=2.6.8->tensorboard<2.9,>=2.8->tensorflow>=2.8.0->-r requirements.txt (line 5)) (4.10.0)\n",
      "Requirement already satisfied: zipp>=0.5 in c:\\users\\krisk\\.conda\\envs\\py38\\lib\\site-packages (from importlib-metadata>=4.4->markdown>=2.6.8->tensorboard<2.9,>=2.8->tensorflow>=2.8.0->-r requirements.txt (line 5)) (3.7.0)\n",
      "Requirement already satisfied: pyasn1<0.5.0,>=0.4.6 in c:\\users\\krisk\\.conda\\envs\\py38\\lib\\site-packages (from pyasn1-modules>=0.2.1->google-auth<3,>=1.6.3->tensorboard<2.9,>=2.8->tensorflow>=2.8.0->-r requirements.txt (line 5)) (0.4.8)\n",
      "Requirement already satisfied: charset-normalizer~=2.0.0 in c:\\users\\krisk\\.conda\\envs\\py38\\lib\\site-packages (from requests<3,>=2.21.0->tensorboard<2.9,>=2.8->tensorflow>=2.8.0->-r requirements.txt (line 5)) (2.0.10)\n",
      "Requirement already satisfied: idna<4,>=2.5 in c:\\users\\krisk\\.conda\\envs\\py38\\lib\\site-packages (from requests<3,>=2.21.0->tensorboard<2.9,>=2.8->tensorflow>=2.8.0->-r requirements.txt (line 5)) (3.3)\n",
      "Requirement already satisfied: urllib3<1.27,>=1.21.1 in c:\\users\\krisk\\.conda\\envs\\py38\\lib\\site-packages (from requests<3,>=2.21.0->tensorboard<2.9,>=2.8->tensorflow>=2.8.0->-r requirements.txt (line 5)) (1.26.8)\n",
      "Requirement already satisfied: oauthlib>=3.0.0 in c:\\users\\krisk\\.conda\\envs\\py38\\lib\\site-packages (from requests-oauthlib>=0.7.0->google-auth-oauthlib<0.5,>=0.4.1->tensorboard<2.9,>=2.8->tensorflow>=2.8.0->-r requirements.txt (line 5)) (3.1.1)\n",
      "Requirement already satisfied: pathspec<1,>=0.9.0 in c:\\users\\krisk\\.conda\\envs\\py38\\lib\\site-packages (from black->ipython>=8.0.0->-r requirements.txt (line 8)) (0.9.0)\n",
      "Requirement already satisfied: click>=7.1.2 in c:\\users\\krisk\\.conda\\envs\\py38\\lib\\site-packages (from black->ipython>=8.0.0->-r requirements.txt (line 8)) (8.0.3)\n",
      "Requirement already satisfied: tomli<2.0.0,>=0.2.6 in c:\\users\\krisk\\.conda\\envs\\py38\\lib\\site-packages (from black->ipython>=8.0.0->-r requirements.txt (line 8)) (1.2.2)\n",
      "Requirement already satisfied: platformdirs>=2 in c:\\users\\krisk\\.conda\\envs\\py38\\lib\\site-packages (from black->ipython>=8.0.0->-r requirements.txt (line 8)) (2.4.1)\n",
      "Requirement already satisfied: mypy-extensions>=0.4.3 in c:\\users\\krisk\\.conda\\envs\\py38\\lib\\site-packages (from black->ipython>=8.0.0->-r requirements.txt (line 8)) (0.4.3)\n",
      "Requirement already satisfied: pure-eval in c:\\users\\krisk\\.conda\\envs\\py38\\lib\\site-packages (from stack-data->ipython>=8.0.0->-r requirements.txt (line 8)) (0.2.1)\n",
      "Requirement already satisfied: asttokens in c:\\users\\krisk\\.conda\\envs\\py38\\lib\\site-packages (from stack-data->ipython>=8.0.0->-r requirements.txt (line 8)) (2.0.5)\n",
      "Requirement already satisfied: executing in c:\\users\\krisk\\.conda\\envs\\py38\\lib\\site-packages (from stack-data->ipython>=8.0.0->-r requirements.txt (line 8)) (0.8.2)\n"
     ]
    }
   ],
   "source": [
    "!pip3 install -r requirements.txt"
   ]
  },
  {
   "cell_type": "markdown",
   "source": [
    "First we download the Dataset,\n",
    "If you want to run your own dataset you can skip this cell."
   ],
   "metadata": {
    "collapsed": false,
    "pycharm": {
     "name": "#%% md\n"
    }
   }
  },
  {
   "cell_type": "code",
   "execution_count": null,
   "outputs": [],
   "source": [
    "from google_drive_downloader import GoogleDriveDownloader as gdd\n",
    "import os\n",
    "os.chdir(\"/YoloV5_implementation\")\n",
    "\n",
    "print(\"This might take some time, 12GB\")\n",
    "gdd.download_file_from_google_drive(file_id='1iytA1n2z4go3uVCwE__vIKouTKyIDjEq',\n",
    "                                    dest_path='',\n",
    "                                    unzip=True)\n",
    "gdd.download_file_from_google_drive(file_id='1iytA1n2z4go3uVCwE__vIKouTKyIDjEq',\n",
    "                                    dest_path='',\n",
    "                                    unzip=True)\n",
    "gdd.download_file_from_google_drive(file_id='1iytA1n2z4go3uVCwE__vIKouTKyIDjEq',\n",
    "                                    dest_path='',\n",
    "                                    unzip=False)"
   ],
   "metadata": {
    "collapsed": false,
    "pycharm": {
     "name": "#%%\n"
    }
   }
  },
  {
   "cell_type": "markdown",
   "source": [
    "We now install the Yolov5 enviroment"
   ],
   "metadata": {
    "collapsed": false,
    "pycharm": {
     "name": "#%% md\n"
    }
   }
  },
  {
   "cell_type": "code",
   "execution_count": null,
   "outputs": [],
   "source": [
    "!git clone https://github.com/ultralytics/yolov5  # clone repo\n",
    "%cd .\\YoloV5_implementation\\content\\yolov5\\\n",
    "!pip install -r yolov5/requirements.txt --user\n",
    "!pip install wandb\n",
    "\n",
    "import torch\n",
    "print('Using torch %s %s' % (torch.__version__, torch.cuda.get_device_properties(0) if torch.cuda.is_available() else 'CPU'))"
   ],
   "metadata": {
    "collapsed": false,
    "pycharm": {
     "name": "#%%\n"
    }
   }
  },
  {
   "cell_type": "markdown",
   "source": [
    "The following runs the validation task on the folder specified as validation data in the birds.yaml file"
   ],
   "metadata": {
    "collapsed": false,
    "pycharm": {
     "name": "#%% md\n"
    }
   }
  },
  {
   "cell_type": "code",
   "execution_count": null,
   "outputs": [],
   "source": [
    "!python yolov5/val.py --img 1024 --weights best.pt --data birds.yaml --name valBest"
   ],
   "metadata": {
    "collapsed": false,
    "pycharm": {
     "name": "#%%\n"
    }
   }
  },
  {
   "cell_type": "markdown",
   "source": [
    "The following code runs the training process, Batch size and epochs can be changed to match hardware and desired training time"
   ],
   "metadata": {
    "collapsed": false,
    "pycharm": {
     "name": "#%% md\n"
    }
   }
  },
  {
   "cell_type": "code",
   "execution_count": null,
   "outputs": [],
   "source": [
    "!python yolov5/train.py --img 1008 --batch-size 80 --epochs 1000 --data ../birds.yaml --weights yolov5l.pt"
   ],
   "metadata": {
    "collapsed": false,
    "pycharm": {
     "name": "#%%\n"
    }
   }
  },
  {
   "cell_type": "markdown",
   "source": [],
   "metadata": {
    "collapsed": false,
    "pycharm": {
     "name": "#%% md\n"
    }
   }
  }
 ],
 "metadata": {
  "kernelspec": {
   "display_name": "Python 3",
   "language": "python",
   "name": "python3"
  },
  "language_info": {
   "codemirror_mode": {
    "name": "ipython",
    "version": 2
   },
   "file_extension": ".py",
   "mimetype": "text/x-python",
   "name": "python",
   "nbconvert_exporter": "python",
   "pygments_lexer": "ipython2",
   "version": "2.7.6"
  }
 },
 "nbformat": 4,
 "nbformat_minor": 0
}