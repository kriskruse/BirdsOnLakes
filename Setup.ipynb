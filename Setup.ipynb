{
 "cells": [
  {
   "cell_type": "code",
   "execution_count": 1,
   "metadata": {
    "collapsed": true,
    "pycharm": {
     "name": "#%%\n"
    }
   },
   "outputs": [
    {
     "name": "stdout",
     "output_type": "stream",
     "text": [
      "Looking in indexes: https://pypi.org/simple, https://pypi.ngc.nvidia.com\n",
      "Requirement already satisfied: opencv-python>=4.5.5.64 in c:\\users\\krisk\\.conda\\envs\\py38\\lib\\site-packages (from -r requirements.txt (line 1)) (4.5.5.64)\n",
      "Requirement already satisfied: numpy>=1.22.3 in c:\\users\\krisk\\.conda\\envs\\py38\\lib\\site-packages (from -r requirements.txt (line 2)) (1.22.3)\n",
      "Requirement already satisfied: pillow>=7.0.0 in c:\\users\\krisk\\appdata\\roaming\\python\\python38\\site-packages (from -r requirements.txt (line 3)) (9.1.0)\n",
      "Requirement already satisfied: bs4>=0.0.1 in c:\\users\\krisk\\.conda\\envs\\py38\\lib\\site-packages (from -r requirements.txt (line 4)) (0.0.1)\n",
      "Requirement already satisfied: beautifulsoup4>=4.10.0 in c:\\users\\krisk\\.conda\\envs\\py38\\lib\\site-packages (from -r requirements.txt (line 5)) (4.10.0)\n",
      "Requirement already satisfied: tqdm>=4.62.3 in c:\\users\\krisk\\.conda\\envs\\py38\\lib\\site-packages (from -r requirements.txt (line 6)) (4.62.3)\n",
      "Requirement already satisfied: imgaug>=0.4.0 in c:\\users\\krisk\\.conda\\envs\\py38\\lib\\site-packages (from -r requirements.txt (line 7)) (0.4.0)\n",
      "Requirement already satisfied: colorama>=0.4.4 in c:\\users\\krisk\\.conda\\envs\\py38\\lib\\site-packages (from -r requirements.txt (line 8)) (0.4.4)\n",
      "Requirement already satisfied: torch>=1.10.1+cu113 in c:\\users\\krisk\\.conda\\envs\\py38\\lib\\site-packages (from -r requirements.txt (line 9)) (1.10.1+cu113)\n",
      "Requirement already satisfied: GoogleDriveDownloader in c:\\users\\krisk\\.conda\\envs\\py38\\lib\\site-packages (from -r requirements.txt (line 10)) (0.4)\n",
      "Requirement already satisfied: soupsieve>1.2 in c:\\users\\krisk\\.conda\\envs\\py38\\lib\\site-packages (from beautifulsoup4>=4.10.0->-r requirements.txt (line 5)) (2.3.1)\n",
      "Requirement already satisfied: scipy in c:\\users\\krisk\\.conda\\envs\\py38\\lib\\site-packages (from imgaug>=0.4.0->-r requirements.txt (line 7)) (1.4.1)\n",
      "Requirement already satisfied: matplotlib in c:\\users\\krisk\\.conda\\envs\\py38\\lib\\site-packages (from imgaug>=0.4.0->-r requirements.txt (line 7)) (3.3.2)\n",
      "Requirement already satisfied: imageio in c:\\users\\krisk\\.conda\\envs\\py38\\lib\\site-packages (from imgaug>=0.4.0->-r requirements.txt (line 7)) (2.19.0)\n",
      "Requirement already satisfied: six in c:\\users\\krisk\\.conda\\envs\\py38\\lib\\site-packages (from imgaug>=0.4.0->-r requirements.txt (line 7)) (1.16.0)\n",
      "Requirement already satisfied: Shapely in c:\\users\\krisk\\.conda\\envs\\py38\\lib\\site-packages (from imgaug>=0.4.0->-r requirements.txt (line 7)) (1.8.2)\n",
      "Requirement already satisfied: scikit-image>=0.14.2 in c:\\users\\krisk\\.conda\\envs\\py38\\lib\\site-packages (from imgaug>=0.4.0->-r requirements.txt (line 7)) (0.19.2)\n",
      "Requirement already satisfied: typing-extensions in c:\\users\\krisk\\.conda\\envs\\py38\\lib\\site-packages (from torch>=1.10.1+cu113->-r requirements.txt (line 9)) (4.0.1)\n",
      "Requirement already satisfied: packaging>=20.0 in c:\\users\\krisk\\.conda\\envs\\py38\\lib\\site-packages (from scikit-image>=0.14.2->imgaug>=0.4.0->-r requirements.txt (line 7)) (21.3)\n",
      "Requirement already satisfied: PyWavelets>=1.1.1 in c:\\users\\krisk\\.conda\\envs\\py38\\lib\\site-packages (from scikit-image>=0.14.2->imgaug>=0.4.0->-r requirements.txt (line 7)) (1.3.0)\n",
      "Requirement already satisfied: networkx>=2.2 in c:\\users\\krisk\\.conda\\envs\\py38\\lib\\site-packages (from scikit-image>=0.14.2->imgaug>=0.4.0->-r requirements.txt (line 7)) (2.8)\n",
      "Requirement already satisfied: tifffile>=2019.7.26 in c:\\users\\krisk\\.conda\\envs\\py38\\lib\\site-packages (from scikit-image>=0.14.2->imgaug>=0.4.0->-r requirements.txt (line 7)) (2022.5.4)\n",
      "Requirement already satisfied: pyparsing!=3.0.5,>=2.0.2 in c:\\users\\krisk\\.conda\\envs\\py38\\lib\\site-packages (from packaging>=20.0->scikit-image>=0.14.2->imgaug>=0.4.0->-r requirements.txt (line 7)) (3.0.6)\n",
      "Requirement already satisfied: python-dateutil>=2.1 in c:\\users\\krisk\\.conda\\envs\\py38\\lib\\site-packages (from matplotlib->imgaug>=0.4.0->-r requirements.txt (line 7)) (2.8.2)\n",
      "Requirement already satisfied: kiwisolver>=1.0.1 in c:\\users\\krisk\\.conda\\envs\\py38\\lib\\site-packages (from matplotlib->imgaug>=0.4.0->-r requirements.txt (line 7)) (1.3.2)\n",
      "Requirement already satisfied: certifi>=2020.06.20 in c:\\users\\krisk\\.conda\\envs\\py38\\lib\\site-packages (from matplotlib->imgaug>=0.4.0->-r requirements.txt (line 7)) (2021.10.8)\n",
      "Requirement already satisfied: cycler>=0.10 in c:\\users\\krisk\\.conda\\envs\\py38\\lib\\site-packages (from matplotlib->imgaug>=0.4.0->-r requirements.txt (line 7)) (0.11.0)\n"
     ]
    }
   ],
   "source": [
    "!pip3 install -r requirements.txt"
   ]
  },
  {
   "cell_type": "markdown",
   "source": [
    "First we download the Dataset,\n",
    "If you want to run your own dataset you can skip this cell."
   ],
   "metadata": {
    "collapsed": false,
    "pycharm": {
     "name": "#%% md\n"
    }
   }
  },
  {
   "cell_type": "code",
   "execution_count": 6,
   "outputs": [
    {
     "name": "stdout",
     "output_type": "stream",
     "text": [
      "This might take some time, 12GB\n"
     ]
    },
    {
     "name": "stderr",
     "output_type": "stream",
     "text": [
      "Downloading...\n",
      "From: https://drive.google.com/uc?id=1-hmNPiibGQI5hF68tteiGXVU6xLobDQv\n",
      "To: C:\\Users\\KrisK\\Desktop\\Github\\BirdsOnLakes\\OneClassTestSet.zip\n",
      "\n",
      "  0%|          | 0.00/70.8M [00:00<?, ?B/s]\n",
      "  1%|          | 524k/70.8M [00:00<00:13, 5.14MB/s]\n",
      "  2%|2         | 1.57M/70.8M [00:00<00:10, 6.69MB/s]\n",
      "  4%|4         | 3.15M/70.8M [00:00<00:06, 9.89MB/s]\n",
      "  7%|6         | 4.72M/70.8M [00:00<00:05, 11.5MB/s]\n",
      "  9%|8         | 6.29M/70.8M [00:00<00:05, 11.6MB/s]\n",
      " 11%|#1        | 7.86M/70.8M [00:00<00:05, 11.7MB/s]\n",
      " 13%|#3        | 9.44M/70.8M [00:00<00:05, 11.7MB/s]\n",
      " 16%|#5        | 11.0M/70.8M [00:01<00:05, 10.5MB/s]\n",
      " 18%|#7        | 12.6M/70.8M [00:01<00:05, 11.0MB/s]\n",
      " 21%|##        | 14.7M/70.8M [00:01<00:04, 11.9MB/s]\n",
      " 23%|##2       | 16.3M/70.8M [00:01<00:04, 12.2MB/s]\n",
      " 25%|##5       | 17.8M/70.8M [00:01<00:04, 12.3MB/s]\n",
      " 27%|##7       | 19.4M/70.8M [00:01<00:04, 12.1MB/s]\n",
      " 30%|##9       | 21.0M/70.8M [00:01<00:04, 12.0MB/s]\n",
      " 32%|###1      | 22.5M/70.8M [00:01<00:04, 12.0MB/s]\n",
      " 34%|###4      | 24.1M/70.8M [00:02<00:03, 11.9MB/s]\n",
      " 36%|###6      | 25.7M/70.8M [00:02<00:03, 11.9MB/s]\n",
      " 39%|###8      | 27.3M/70.8M [00:02<00:03, 11.9MB/s]\n",
      " 41%|####      | 28.8M/70.8M [00:02<00:03, 11.9MB/s]\n",
      " 43%|####2     | 30.4M/70.8M [00:02<00:03, 11.9MB/s]\n",
      " 45%|####5     | 32.0M/70.8M [00:02<00:03, 11.9MB/s]\n",
      " 47%|####7     | 33.6M/70.8M [00:02<00:03, 11.9MB/s]\n",
      " 50%|####9     | 35.1M/70.8M [00:03<00:03, 11.8MB/s]\n",
      " 52%|#####1    | 36.7M/70.8M [00:03<00:02, 11.8MB/s]\n",
      " 54%|#####4    | 38.3M/70.8M [00:03<00:02, 11.8MB/s]\n",
      " 56%|#####6    | 39.8M/70.8M [00:03<00:02, 11.9MB/s]\n",
      " 58%|#####8    | 41.4M/70.8M [00:03<00:02, 11.8MB/s]\n",
      " 61%|######    | 43.0M/70.8M [00:03<00:02, 11.8MB/s]\n",
      " 63%|######2   | 44.6M/70.8M [00:03<00:02, 11.8MB/s]\n",
      " 65%|######5   | 46.1M/70.8M [00:03<00:02, 11.8MB/s]\n",
      " 67%|######7   | 47.7M/70.8M [00:04<00:01, 11.8MB/s]\n",
      " 70%|######9   | 49.3M/70.8M [00:04<00:01, 11.2MB/s]\n",
      " 72%|#######1  | 50.9M/70.8M [00:04<00:01, 10.8MB/s]\n",
      " 74%|#######4  | 52.4M/70.8M [00:04<00:01, 9.80MB/s]\n",
      " 76%|#######6  | 54.0M/70.8M [00:04<00:01, 10.3MB/s]\n",
      " 78%|#######8  | 55.6M/70.8M [00:04<00:01, 10.8MB/s]\n",
      " 81%|########  | 57.1M/70.8M [00:05<00:01, 11.1MB/s]\n",
      " 83%|########2 | 58.7M/70.8M [00:05<00:01, 10.9MB/s]\n",
      " 85%|########5 | 60.3M/70.8M [00:05<00:00, 10.5MB/s]\n",
      " 88%|########8 | 62.4M/70.8M [00:05<00:00, 12.0MB/s]\n",
      " 90%|######### | 64.0M/70.8M [00:05<00:00, 11.9MB/s]\n",
      " 93%|#########2| 65.5M/70.8M [00:05<00:00, 11.9MB/s]\n",
      " 95%|#########4| 67.1M/70.8M [00:05<00:00, 11.9MB/s]\n",
      " 97%|#########7| 68.7M/70.8M [00:05<00:00, 11.9MB/s]\n",
      " 99%|#########9| 70.3M/70.8M [00:06<00:00, 11.9MB/s]\n",
      "100%|##########| 70.8M/70.8M [00:06<00:00, 11.5MB/s]\n"
     ]
    }
   ],
   "source": [
    "import os\n",
    "import zipfile\n",
    "#https://drive.google.com/file/d/149XqawehJcL8_y6lKkIdwhHXAl9dnHHs/view?usp=sharing  DataSetTrain\n",
    "#https://drive.google.com/file/d/1-hmNPiibGQI5hF68tteiGXVU6xLobDQv/view?usp=sharing  DataSetTest\n",
    "#https://drive.google.com/file/d/1uAocY_0zErs_Tu9Yq891N08Y2dn0oa27/view?usp=sharing  best.pt\n",
    "\n",
    "os.chdir(\"./YoloV5_implementation\")\n",
    "print(\"This might take some time, 12GB\")\n",
    "\n",
    "print(\"Downloading Weights\")\n",
    "!gdown https://drive.google.com/uc?id=1uAocY_0zErs_Tu9Yq891N08Y2dn0oa27\n",
    "print(\"Downloading test set\")\n",
    "!gdown https://drive.google.com/uc?id=1-hmNPiibGQI5hF68tteiGXVU6xLobDQv\n",
    "print(\"Downloading Train set\")\n",
    "!gdown https://drive.google.com/uc?id=149XqawehJcL8_y6lKkIdwhHXAl9dnHHs\n",
    "\n",
    "os.makedirs(\"/YoloV5_implementation/OneClassDataSet\")\n",
    "os.makedirs(\"/YoloV5_implementation/OneClassTestSet\")\n",
    "\n",
    "with zipfile.ZipFile(\"oneClassDataSet.zip\", 'r') as zip_ref:\n",
    "    zip_ref.extractall(\"OneClassDataSet\")\n",
    "with zipfile.ZipFile(\"oneClassTestSet.zip\", 'r') as zip_ref:\n",
    "    zip_ref.extractall(\"OneClassTestSet\")\n"
   ],
   "metadata": {
    "collapsed": false,
    "pycharm": {
     "name": "#%%\n"
    }
   }
  },
  {
   "cell_type": "markdown",
   "source": [
    "We now install the Yolov5 enviroment"
   ],
   "metadata": {
    "collapsed": false,
    "pycharm": {
     "name": "#%% md\n"
    }
   }
  },
  {
   "cell_type": "code",
   "execution_count": 5,
   "outputs": [
    {
     "name": "stdout",
     "output_type": "stream",
     "text": [
      "[WinError 3] Den angivne sti blev ikke fundet: '.\\\\YoloV5_implementation\\\\content\\\\yolov5 !pip install -r yolov5/requirements.txt --user'\n",
      "C:\\Users\\KrisK\\Desktop\\Github\\BirdsOnLakes\n"
     ]
    },
    {
     "name": "stderr",
     "output_type": "stream",
     "text": [
      "fatal: Too many arguments.\n",
      "\n",
      "usage: git clone [<options>] [--] <repo> [<dir>]\n",
      "\n",
      "    -v, --verbose         be more verbose\n",
      "    -q, --quiet           be more quiet\n",
      "    --progress            force progress reporting\n",
      "    --reject-shallow      don't clone shallow repository\n",
      "    -n, --no-checkout     don't create a checkout\n",
      "    --bare                create a bare repository\n",
      "    --mirror              create a mirror repository (implies bare)\n",
      "    -l, --local           to clone from a local repository\n",
      "    --no-hardlinks        don't use local hardlinks, always copy\n",
      "    -s, --shared          setup as shared repository\n",
      "    --recurse-submodules[=<pathspec>]\n",
      "                          initialize submodules in the clone\n",
      "    --recursive ...       alias of --recurse-submodules\n",
      "    -j, --jobs <n>        number of submodules cloned in parallel\n",
      "    --template <template-directory>\n",
      "                          directory from which templates will be used\n",
      "    --reference <repo>    reference repository\n",
      "    --reference-if-able <repo>\n",
      "                          reference repository\n",
      "    --dissociate          use --reference only while cloning\n",
      "    -o, --origin <name>   use <name> instead of 'origin' to track upstream\n",
      "    -b, --branch <branch>\n",
      "                          checkout <branch> instead of the remote's HEAD\n",
      "    -u, --upload-pack <path>\n",
      "                          path to git-upload-pack on the remote\n",
      "    --depth <depth>       create a shallow clone of that depth\n",
      "    --shallow-since <time>\n",
      "                          create a shallow clone since a specific time\n",
      "    --shallow-exclude <revision>\n",
      "                          deepen history of shallow clone, excluding rev\n",
      "    --single-branch       clone only one branch, HEAD or --branch\n",
      "    --no-tags             don't clone any tags, and make later fetches not to follow them\n",
      "    --shallow-submodules  any cloned submodules will be shallow\n",
      "    --separate-git-dir <gitdir>\n",
      "                          separate git dir from working tree\n",
      "    -c, --config <key=value>\n",
      "                          set config inside the new repository\n",
      "    --server-option <server-specific>\n",
      "                          option to transmit\n",
      "    -4, --ipv4            use IPv4 addresses only\n",
      "    -6, --ipv6            use IPv6 addresses only\n",
      "    --filter <args>       object filtering\n",
      "    --also-filter-submodules\n",
      "                          apply partial clone filters to submodules\n",
      "    --remote-submodules   any cloned submodules will use their remote-tracking branch\n",
      "    --sparse              initialize sparse-checkout file to include only files at root\n",
      "\n"
     ]
    },
    {
     "name": "stdout",
     "output_type": "stream",
     "text": [
      "Looking in indexes: https://pypi.org/simple, https://pypi.ngc.nvidia.com\n",
      "Requirement already satisfied: wandb in c:\\users\\krisk\\.conda\\envs\\py38\\lib\\site-packages (0.12.14)\n",
      "Requirement already satisfied: promise<3,>=2.0 in c:\\users\\krisk\\.conda\\envs\\py38\\lib\\site-packages (from wandb) (2.3)\n",
      "Requirement already satisfied: docker-pycreds>=0.4.0 in c:\\users\\krisk\\.conda\\envs\\py38\\lib\\site-packages (from wandb) (0.4.0)\n",
      "Requirement already satisfied: requests<3,>=2.0.0 in c:\\users\\krisk\\.conda\\envs\\py38\\lib\\site-packages (from wandb) (2.27.1)\n",
      "Requirement already satisfied: setproctitle in c:\\users\\krisk\\.conda\\envs\\py38\\lib\\site-packages (from wandb) (1.2.2)\n",
      "Requirement already satisfied: sentry-sdk>=1.0.0 in c:\\users\\krisk\\.conda\\envs\\py38\\lib\\site-packages (from wandb) (1.5.9)\n",
      "Requirement already satisfied: shortuuid>=0.5.0 in c:\\users\\krisk\\.conda\\envs\\py38\\lib\\site-packages (from wandb) (1.0.8)\n",
      "Requirement already satisfied: pathtools in c:\\users\\krisk\\.conda\\envs\\py38\\lib\\site-packages (from wandb) (0.1.2)\n",
      "Requirement already satisfied: GitPython>=1.0.0 in c:\\users\\krisk\\.conda\\envs\\py38\\lib\\site-packages (from wandb) (3.1.27)\n",
      "Requirement already satisfied: psutil>=5.0.0 in c:\\users\\krisk\\.conda\\envs\\py38\\lib\\site-packages (from wandb) (5.9.0)\n",
      "Requirement already satisfied: Click!=8.0.0,>=7.0 in c:\\users\\krisk\\.conda\\envs\\py38\\lib\\site-packages (from wandb) (8.0.3)\n",
      "Requirement already satisfied: six>=1.13.0 in c:\\users\\krisk\\.conda\\envs\\py38\\lib\\site-packages (from wandb) (1.16.0)\n",
      "Requirement already satisfied: protobuf>=3.12.0 in c:\\users\\krisk\\.conda\\envs\\py38\\lib\\site-packages (from wandb) (3.19.3)\n",
      "Requirement already satisfied: PyYAML in c:\\users\\krisk\\.conda\\envs\\py38\\lib\\site-packages (from wandb) (6.0)\n",
      "Requirement already satisfied: python-dateutil>=2.6.1 in c:\\users\\krisk\\.conda\\envs\\py38\\lib\\site-packages (from wandb) (2.8.2)\n",
      "Requirement already satisfied: colorama in c:\\users\\krisk\\.conda\\envs\\py38\\lib\\site-packages (from Click!=8.0.0,>=7.0->wandb) (0.4.4)\n",
      "Requirement already satisfied: gitdb<5,>=4.0.1 in c:\\users\\krisk\\.conda\\envs\\py38\\lib\\site-packages (from GitPython>=1.0.0->wandb) (4.0.9)\n",
      "Requirement already satisfied: smmap<6,>=3.0.1 in c:\\users\\krisk\\.conda\\envs\\py38\\lib\\site-packages (from gitdb<5,>=4.0.1->GitPython>=1.0.0->wandb) (5.0.0)\n",
      "Requirement already satisfied: urllib3<1.27,>=1.21.1 in c:\\users\\krisk\\.conda\\envs\\py38\\lib\\site-packages (from requests<3,>=2.0.0->wandb) (1.26.8)\n",
      "Requirement already satisfied: certifi>=2017.4.17 in c:\\users\\krisk\\.conda\\envs\\py38\\lib\\site-packages (from requests<3,>=2.0.0->wandb) (2021.10.8)\n",
      "Requirement already satisfied: idna<4,>=2.5 in c:\\users\\krisk\\.conda\\envs\\py38\\lib\\site-packages (from requests<3,>=2.0.0->wandb) (3.3)\n",
      "Requirement already satisfied: charset-normalizer~=2.0.0 in c:\\users\\krisk\\.conda\\envs\\py38\\lib\\site-packages (from requests<3,>=2.0.0->wandb) (2.0.10)\n",
      "Using torch 1.10.1+cu113 _CudaDeviceProperties(name='NVIDIA GeForce GTX 1070', major=6, minor=1, total_memory=8191MB, multi_processor_count=15)\n"
     ]
    }
   ],
   "source": [
    "# clone repo\n",
    "!git clone https://github.com/ultralytics/yolov5\n",
    "%cd .\\YoloV5_implementation\\content\\yolov5\\\n",
    "!pip install -r yolov5/requirements.txt --user\n",
    "!pip install wandb\n"
   ],
   "metadata": {
    "collapsed": false,
    "pycharm": {
     "name": "#%%\n"
    }
   }
  },
  {
   "cell_type": "code",
   "execution_count": null,
   "outputs": [],
   "source": [
    "import torch\n",
    "print('Using torch %s %s' % (torch.__version__, torch.cuda.get_device_properties(0) if torch.cuda.is_available() else 'CPU'))"
   ],
   "metadata": {
    "collapsed": false,
    "pycharm": {
     "name": "#%%\n"
    }
   }
  },
  {
   "cell_type": "markdown",
   "source": [
    "The following runs the validation task on the folder specified as validation data in the birds.yaml file"
   ],
   "metadata": {
    "collapsed": false,
    "pycharm": {
     "name": "#%% md\n"
    }
   }
  },
  {
   "cell_type": "code",
   "execution_count": null,
   "outputs": [],
   "source": [
    "!python yolov5/val.py --img 1024 --weights best.pt --data birds.yaml --name valBest"
   ],
   "metadata": {
    "collapsed": false,
    "pycharm": {
     "name": "#%%\n"
    }
   }
  },
  {
   "cell_type": "markdown",
   "source": [
    "The following code runs the training process, Batch size and epochs can be changed to match hardware and desired training time"
   ],
   "metadata": {
    "collapsed": false,
    "pycharm": {
     "name": "#%% md\n"
    }
   }
  },
  {
   "cell_type": "code",
   "execution_count": null,
   "outputs": [],
   "source": [
    "!python yolov5/train.py --img 1008 --batch-size 80 --epochs 1000 --data ../birds.yaml --weights yolov5l.pt"
   ],
   "metadata": {
    "collapsed": false,
    "pycharm": {
     "name": "#%%\n"
    }
   }
  },
  {
   "cell_type": "markdown",
   "source": [],
   "metadata": {
    "collapsed": false,
    "pycharm": {
     "name": "#%% md\n"
    }
   }
  }
 ],
 "metadata": {
  "kernelspec": {
   "display_name": "Python 3",
   "language": "python",
   "name": "python3"
  },
  "language_info": {
   "codemirror_mode": {
    "name": "ipython",
    "version": 2
   },
   "file_extension": ".py",
   "mimetype": "text/x-python",
   "name": "python",
   "nbconvert_exporter": "python",
   "pygments_lexer": "ipython2",
   "version": "2.7.6"
  }
 },
 "nbformat": 4,
 "nbformat_minor": 0
}